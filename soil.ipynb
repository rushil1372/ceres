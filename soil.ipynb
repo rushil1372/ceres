{
 "cells": [
  {
   "cell_type": "code",
   "execution_count": 2,
   "metadata": {},
   "outputs": [],
   "source": [
    "import numpy as np\n",
    "import matplotlib.pyplot as plt\n",
    "from sklearn.metrics import accuracy_score\n",
    "from sklearn.model_selection import train_test_split\n",
    "import tensorflow as tf\n",
    "from tensorflow import keras \n",
    "import seaborn as sns\n",
    "import os"
   ]
  },
  {
   "cell_type": "code",
   "execution_count": 3,
   "metadata": {},
   "outputs": [
    {
     "name": "stdout",
     "output_type": "stream",
     "text": [
      "The number of GPUs: 0\n",
      "GPU 0: NVIDIA GeForce GTX 1650 (UUID: GPU-ac3f731c-b660-0261-772f-ea87cc13f762)\n"
     ]
    }
   ],
   "source": [
    "print(f\"The number of GPUs: {len(tf.config.list_physical_devices('GPU'))}\")\n",
    "!nvidia-smi -L"
   ]
  },
  {
   "cell_type": "code",
   "execution_count": 4,
   "metadata": {},
   "outputs": [],
   "source": [
    "# import os\n",
    "\n",
    "# # Function to rename multiple files\n",
    "# def main():\n",
    "\n",
    "# \tfolder = 'data\\\\red'\n",
    "# \tfor count, filename in enumerate(os.listdir(folder)):\n",
    "# \t\tdst = f'red_{str(count)}.jpg'\n",
    "# \t\tsrc = f'{folder}\\\\{filename}' # foldername/filename, if .py file is outside folder\n",
    "# \t\tdst = f'{folder}\\\\{dst}'\n",
    "\t\t\n",
    "# \t\t# rename() function will\n",
    "# \t\t# rename all the files\n",
    "# \t\tos.rename(src, dst)\n",
    "\n",
    "# # Driver Code\n",
    "# if __name__ == '__main__':\n",
    "\t\n",
    "# \t# Calling main() function\n",
    "# \tmain()"
   ]
  },
  {
   "cell_type": "code",
   "execution_count": 5,
   "metadata": {},
   "outputs": [
    {
     "name": "stdout",
     "output_type": "stream",
     "text": [
      "204 200 200 200\n"
     ]
    }
   ],
   "source": [
    "filenames = os.listdir('data/combined')\n",
    "\n",
    "alluvial = []\n",
    "black = []\n",
    "desert = []\n",
    "red = []\n",
    "for files in filenames:\n",
    "    if files[0:8] == 'alluvial':\n",
    "        alluvial.append(files)\n",
    "    elif files[0:5] == 'black':\n",
    "        black.append(files)\n",
    "    elif files[0:6] == 'desert':\n",
    "        desert.append(files)\n",
    "    elif files[0:3] == 'red':\n",
    "        red.append(files)\n",
    "        \n",
    "print(len(alluvial),len(black),len(desert),len(red))"
   ]
  },
  {
   "cell_type": "code",
   "execution_count": 6,
   "metadata": {},
   "outputs": [],
   "source": [
    "# original_path = 'data/combined'\n",
    "# new_path = 'images_resized/'\n",
    "\n",
    "\n",
    "# from PIL import Image\n",
    "# import os, sys\n",
    "\n",
    "# def resize_rename_rotate(srcdir,srcfile, targetdir=\"\", size=(224,224)):\n",
    "#     #srcfile_path : the complete path to source file\n",
    "#     src_path = srcdir+srcfile\n",
    "\n",
    "#     targetfile = os.path.splitext(srcfile)\n",
    "#     extension = os.path.splitext(srcfile)[1]\n",
    "     \n",
    "#     if srcfile != targetfile:\n",
    "#         try :\n",
    "#             im = Image.open(src_path)  # open file\n",
    "#             im = im.rotate(90) # degrees counter-clockwise\n",
    "#             im = im.resize(size) # resize the file\n",
    "#             im.save(targetdir+targetfile[0]+'__'+\".jpg\")\n",
    "#         except IOError:\n",
    "#             print (\"cannot change image for \", srcfile)\n",
    "\n",
    "# if __name__==\"__main__\":\n",
    "#   targetdir = \"data/combined\"\n",
    "#   srcdir = \"images_resized/\"\n",
    "\n",
    "#   for file in os.listdir(srcdir):\n",
    "#      resize_rename_rotate(srcdir,file,targetdir)"
   ]
  },
  {
   "cell_type": "code",
   "execution_count": 7,
   "metadata": {},
   "outputs": [],
   "source": [
    "# from PIL import ImageFile\n",
    "# from PIL import Image\n",
    "# ImageFile.LOAD_TRUNCATED_IMAGES = True\n",
    "\n",
    "# path = 'images_resized/combined'\n",
    "# new_path = 'images_resized1/combined'\n",
    "\n",
    "# for i in range(len(filenames)):\n",
    "#     filename = os.listdir(path)[i]\n",
    "#     f_img = path+\"/\"+filename\n",
    "#     img = Image.open(f_img)\n",
    "#     img = img.resize((224, 224)) #(width, height)\n",
    "#     img = img.convert('RGB')\n",
    "#     new_img_path = new_path+'/'+filename\n",
    "#     img.save(new_img_path)\n",
    "\n",
    "\n",
    "# filenames = os.listdir('images_resized1/combined')\n",
    "\n",
    "# alluvial = []\n",
    "# black = []\n",
    "# desert = []\n",
    "# red = []\n",
    "# for files in filenames:\n",
    "#     if files[0:8] == 'alluvial':\n",
    "#         alluvial.append(files)\n",
    "#     elif files[0:5] == 'black':\n",
    "#         black.append(files)\n",
    "#     elif files[0:6] == 'desert':\n",
    "#         desert.append(files)\n",
    "#     elif files[0:3] == 'red':\n",
    "#         red.append(files)\n",
    "# print(len(alluvial),len(black),len(desert),len(red))"
   ]
  },
  {
   "cell_type": "code",
   "execution_count": 8,
   "metadata": {},
   "outputs": [
    {
     "data": {
      "text/plain": [
       "(804, 224, 224, 3)"
      ]
     },
     "execution_count": 8,
     "metadata": {},
     "output_type": "execute_result"
    }
   ],
   "source": [
    "import glob\n",
    "import cv2\n",
    "\n",
    "image_directory = 'images_resized1/combined/'\n",
    "image_extensions = ['png','jpg']\n",
    "\n",
    "files = []\n",
    "[files.extend(glob.glob(image_directory + '*.' + e)) for e in image_extensions]\n",
    "soil_images = np.asarray([cv2.imread(file) for file in files])\n",
    "\n",
    "soil_images.shape"
   ]
  },
  {
   "cell_type": "code",
   "execution_count": 9,
   "metadata": {},
   "outputs": [
    {
     "data": {
      "text/plain": [
       "(204, 200, 200, 200)"
      ]
     },
     "execution_count": 9,
     "metadata": {},
     "output_type": "execute_result"
    }
   ],
   "source": [
    "labels = []\n",
    "for i in range(0,len(filenames)):\n",
    "    files = filenames[i]    \n",
    "    if files[0:8] == 'alluvial':\n",
    "        labels.append(0)\n",
    "    elif files[0:5] == 'black':\n",
    "        labels.append(1)\n",
    "    elif files[0:6] == 'desert':\n",
    "        labels.append(2)\n",
    "    elif files[0:3] == 'red':\n",
    "        labels.append(3)\n",
    "\n",
    "labels.count(0), labels.count(1),labels.count(2), labels.count(3)"
   ]
  },
  {
   "cell_type": "code",
   "execution_count": 10,
   "metadata": {},
   "outputs": [],
   "source": [
    "X = soil_images\n",
    "Y = np.asarray(labels)"
   ]
  },
  {
   "cell_type": "code",
   "execution_count": 11,
   "metadata": {},
   "outputs": [
    {
     "data": {
      "text/plain": [
       "array([0, 0, 0, 0, 0, 0, 0, 0, 0, 0, 0, 0, 0, 0, 0, 0, 0, 0, 0, 0, 0, 0,\n",
       "       0, 0, 0, 0, 0, 0, 0, 0, 0, 0, 0, 0, 0, 0, 0, 0, 0, 0, 0, 0, 0, 0,\n",
       "       0, 0, 0, 0, 0, 0, 0, 0, 0, 0, 0, 0, 0, 0, 0, 0, 0, 0, 0, 0, 0, 0,\n",
       "       0, 0, 0, 0, 0, 0, 0, 0, 0, 0, 0, 0, 0, 0, 0, 0, 0, 0, 0, 0, 0, 0,\n",
       "       0, 0, 0, 0, 0, 0, 0, 0, 0, 0, 0, 0, 0, 0, 0, 0, 0, 0, 0, 0, 0, 0,\n",
       "       0, 0, 0, 0, 0, 0, 0, 0, 0, 0, 0, 0, 0, 0, 0, 0, 0, 0, 0, 0, 0, 0,\n",
       "       0, 0, 0, 0, 0, 0, 0, 0, 0, 0, 0, 0, 0, 0, 0, 0, 0, 0, 0, 0, 0, 0,\n",
       "       0, 0, 0, 0, 0, 0, 0, 0, 0, 0, 0, 0, 0, 0, 0, 0, 0, 0, 0, 0, 0, 0,\n",
       "       0, 0, 0, 0, 0, 0, 0, 0, 0, 0, 0, 0, 0, 0, 0, 0, 0, 0, 0, 0, 0, 0,\n",
       "       0, 0, 0, 0, 0, 0, 1, 1, 1, 1, 1, 1, 1, 1, 1, 1, 1, 1, 1, 1, 1, 1,\n",
       "       1, 1, 1, 1, 1, 1, 1, 1, 1, 1, 1, 1, 1, 1, 1, 1, 1, 1, 1, 1, 1, 1,\n",
       "       1, 1, 1, 1, 1, 1, 1, 1, 1, 1, 1, 1, 1, 1, 1, 1, 1, 1, 1, 1, 1, 1,\n",
       "       1, 1, 1, 1, 1, 1, 1, 1, 1, 1, 1, 1, 1, 1, 1, 1, 1, 1, 1, 1, 1, 1,\n",
       "       1, 1, 1, 1, 1, 1, 1, 1, 1, 1, 1, 1, 1, 1, 1, 1, 1, 1, 1, 1, 1, 1,\n",
       "       1, 1, 1, 1, 1, 1, 1, 1, 1, 1, 1, 1, 1, 1, 1, 1, 1, 1, 1, 1, 1, 1,\n",
       "       1, 1, 1, 1, 1, 1, 1, 1, 1, 1, 1, 1, 1, 1, 1, 1, 1, 1, 1, 1, 1, 1,\n",
       "       1, 1, 1, 1, 1, 1, 1, 1, 1, 1, 1, 1, 1, 1, 1, 1, 1, 1, 1, 1, 1, 1,\n",
       "       1, 1, 1, 1, 1, 1, 1, 1, 1, 1, 1, 1, 1, 1, 1, 1, 1, 1, 1, 1, 1, 1,\n",
       "       1, 1, 1, 1, 1, 1, 1, 1, 2, 2, 2, 2, 2, 2, 2, 2, 2, 2, 2, 2, 2, 2,\n",
       "       2, 2, 2, 2, 2, 2, 2, 2, 2, 2, 2, 2, 2, 2, 2, 2, 2, 2, 2, 2, 2, 2,\n",
       "       2, 2, 2, 2, 2, 2, 2, 2, 2, 2, 2, 2, 2, 2, 2, 2, 2, 2, 2, 2, 2, 2,\n",
       "       2, 2, 2, 2, 2, 2, 2, 2, 2, 2, 2, 2, 2, 2, 2, 2, 2, 2, 2, 2, 2, 2,\n",
       "       2, 2, 2, 2, 2, 2, 2, 2, 2, 2, 2, 2, 2, 2, 2, 2, 2, 2, 2, 2, 2, 2,\n",
       "       2, 2, 2, 2, 2, 2, 2, 2, 2, 2, 2, 2, 2, 2, 2, 2, 2, 2, 2, 2, 2, 2,\n",
       "       2, 2, 2, 2, 2, 2, 2, 2, 2, 2, 2, 2, 2, 2, 2, 2, 2, 2, 2, 2, 2, 2,\n",
       "       2, 2, 2, 2, 2, 2, 2, 2, 2, 2, 2, 2, 2, 2, 2, 2, 2, 2, 2, 2, 2, 2,\n",
       "       2, 2, 2, 2, 2, 2, 2, 2, 2, 2, 2, 2, 2, 2, 2, 2, 2, 2, 2, 2, 2, 2,\n",
       "       2, 2, 2, 2, 2, 2, 2, 2, 2, 2, 3, 3, 3, 3, 3, 3, 3, 3, 3, 3, 3, 3,\n",
       "       3, 3, 3, 3, 3, 3, 3, 3, 3, 3, 3, 3, 3, 3, 3, 3, 3, 3, 3, 3, 3, 3,\n",
       "       3, 3, 3, 3, 3, 3, 3, 3, 3, 3, 3, 3, 3, 3, 3, 3, 3, 3, 3, 3, 3, 3,\n",
       "       3, 3, 3, 3, 3, 3, 3, 3, 3, 3, 3, 3, 3, 3, 3, 3, 3, 3, 3, 3, 3, 3,\n",
       "       3, 3, 3, 3, 3, 3, 3, 3, 3, 3, 3, 3, 3, 3, 3, 3, 3, 3, 3, 3, 3, 3,\n",
       "       3, 3, 3, 3, 3, 3, 3, 3, 3, 3, 3, 3, 3, 3, 3, 3, 3, 3, 3, 3, 3, 3,\n",
       "       3, 3, 3, 3, 3, 3, 3, 3, 3, 3, 3, 3, 3, 3, 3, 3, 3, 3, 3, 3, 3, 3,\n",
       "       3, 3, 3, 3, 3, 3, 3, 3, 3, 3, 3, 3, 3, 3, 3, 3, 3, 3, 3, 3, 3, 3,\n",
       "       3, 3, 3, 3, 3, 3, 3, 3, 3, 3, 3, 3, 3, 3, 3, 3, 3, 3, 3, 3, 3, 3,\n",
       "       3, 3, 3, 3, 3, 3, 3, 3, 3, 3, 3, 3])"
      ]
     },
     "execution_count": 11,
     "metadata": {},
     "output_type": "execute_result"
    }
   ],
   "source": [
    "Y"
   ]
  },
  {
   "cell_type": "code",
   "execution_count": 12,
   "metadata": {},
   "outputs": [],
   "source": [
    "X_train,X_test,Y_train,Y_test = train_test_split(X,Y,test_size=0.2,shuffle=True,random_state=35,stratify=Y)"
   ]
  },
  {
   "cell_type": "code",
   "execution_count": 13,
   "metadata": {},
   "outputs": [
    {
     "data": {
      "text/plain": [
       "((643, 224, 224, 3), (161, 224, 224, 3))"
      ]
     },
     "execution_count": 13,
     "metadata": {},
     "output_type": "execute_result"
    }
   ],
   "source": [
    "X_train.shape,X_test.shape"
   ]
  },
  {
   "cell_type": "code",
   "execution_count": 14,
   "metadata": {},
   "outputs": [
    {
     "data": {
      "text/plain": [
       "((643,), (161,))"
      ]
     },
     "execution_count": 14,
     "metadata": {},
     "output_type": "execute_result"
    }
   ],
   "source": [
    "Y_train.shape,Y_test.shape"
   ]
  },
  {
   "cell_type": "code",
   "execution_count": 15,
   "metadata": {},
   "outputs": [],
   "source": [
    "X_train_scaled = X_train/255\n",
    "X_test_scaled = X_test/255"
   ]
  },
  {
   "cell_type": "code",
   "execution_count": 16,
   "metadata": {},
   "outputs": [
    {
     "name": "stdout",
     "output_type": "stream",
     "text": [
      "WARNING:tensorflow:Please fix your imports. Module tensorflow.python.training.tracking.data_structures has been moved to tensorflow.python.trackable.data_structures. The old module will be deleted in version 2.11.\n",
      "Model: \"sequential\"\n",
      "_________________________________________________________________\n",
      " Layer (type)                Output Shape              Param #   \n",
      "=================================================================\n",
      " keras_layer (KerasLayer)    (None, 1280)              2257984   \n",
      "                                                                 \n",
      " flatten (Flatten)           (None, 1280)              0         \n",
      "                                                                 \n",
      " dense (Dense)               (None, 1024)              1311744   \n",
      "                                                                 \n",
      " dense_1 (Dense)             (None, 512)               524800    \n",
      "                                                                 \n",
      " dense_2 (Dense)             (None, 256)               131328    \n",
      "                                                                 \n",
      " dense_3 (Dense)             (None, 4)                 1028      \n",
      "                                                                 \n",
      "=================================================================\n",
      "Total params: 4,226,884\n",
      "Trainable params: 1,968,900\n",
      "Non-trainable params: 2,257,984\n",
      "_________________________________________________________________\n"
     ]
    }
   ],
   "source": [
    "import tensorflow_hub as hub\n",
    "mobile_net_model = 'https://tfhub.dev/google/tf2-preview/mobilenet_v2/feature_vector/4'\n",
    "pretrained_model = hub.KerasLayer(mobile_net_model,input_shape=(224,224,3),trainable=False)\n",
    "\n",
    "from tensorflow.keras.utils import to_categorical\n",
    "from keras.models import Sequential\n",
    "from keras.layers import Conv2D,MaxPool2D,Dense,Flatten,Dropout\n",
    "\n",
    "# number_of_classes = 4\n",
    "\n",
    "model = Sequential()\n",
    "\n",
    "model.add(pretrained_model)\n",
    "\n",
    "model.add(Flatten())\n",
    "model.add(Dense(1024,activation='relu'))\n",
    "model.add(Dense(512,activation='relu'))\n",
    "model.add(Dense(256,activation='relu'))\n",
    "\n",
    "model.add(Dense(4,activation='softmax'))\n",
    "model.summary()"
   ]
  },
  {
   "cell_type": "code",
   "execution_count": 17,
   "metadata": {},
   "outputs": [
    {
     "name": "stdout",
     "output_type": "stream",
     "text": [
      "Epoch 1/2\n"
     ]
    },
    {
     "name": "stderr",
     "output_type": "stream",
     "text": [
      "c:\\Users\\RUSHIL\\AppData\\Local\\Programs\\Python\\Python39\\lib\\site-packages\\keras\\backend.py:5582: UserWarning: \"`sparse_categorical_crossentropy` received `from_logits=True`, but the `output` argument was produced by a Softmax activation and thus does not represent logits. Was this intended?\n",
      "  output, from_logits = _get_logits(\n"
     ]
    },
    {
     "name": "stdout",
     "output_type": "stream",
     "text": [
      "31/31 [==============================] - 25s 542ms/step - loss: 1.0248 - acc: 0.5768 - val_loss: 0.6562 - val_acc: 0.6832\n",
      "Epoch 2/2\n",
      "31/31 [==============================] - 15s 483ms/step - loss: 0.4406 - acc: 0.8133 - val_loss: 0.2313 - val_acc: 0.9255\n"
     ]
    }
   ],
   "source": [
    "model.compile(\n",
    "    optimizer = 'adam',\n",
    "    loss = tf.keras.losses.SparseCategoricalCrossentropy(from_logits=True),\n",
    "    metrics = ['acc']\n",
    ")\n",
    "\n",
    "history = model.fit(X_train_scaled,Y_train,epochs=2,validation_split=0.25,batch_size=16)"
   ]
  },
  {
   "cell_type": "code",
   "execution_count": 18,
   "metadata": {},
   "outputs": [],
   "source": [
    "model.save_weights('abc.h5')"
   ]
  },
  {
   "cell_type": "code",
   "execution_count": 19,
   "metadata": {},
   "outputs": [
    {
     "data": {
      "image/png": "[encoded data removed]",
      "text/plain": [
       "<Figure size 504x360 with 1 Axes>"
      ]
     },
     "metadata": {
      "needs_background": "light"
     },
     "output_type": "display_data"
    }
   ],
   "source": [
    "plt.figure(figsize=(7,5))\n",
    "plt.plot(history.history['val_acc'],linewidth = 4)\n",
    "plt.plot(history.history['acc'],linewidth = 4)\n",
    "\n",
    "plt.title(\"Training and Validation Accuracy\",fontsize=12)\n",
    "plt.ylabel(\"Accuracy\",fontsize=12)\n",
    "plt.xlabel(\"Number of epochs\",fontsize=12)\n",
    "plt.legend(['val','train'],loc = 'lower right')\n",
    "plt.grid()\n",
    "\n",
    "plt.show()"
   ]
  },
  {
   "cell_type": "code",
   "execution_count": 31,
   "metadata": {},
   "outputs": [
    {
     "name": "stdout",
     "output_type": "stream",
     "text": [
      "1/1 [==============================] - 0s 83ms/step\n",
      "0\n",
      "Alluvial Soil\n"
     ]
    }
   ],
   "source": [
    "# Validation \n",
    "\n",
    "from PIL import ImageFile\n",
    "from PIL import Image\n",
    "\n",
    "img_test = cv2.imread(r'D:\\Soil_Pred\\test_data\\test15.png')\n",
    "img_resize = cv2.resize(img_test,(224,224))\n",
    "img_scaled = img_resize/255\n",
    "img_reshaped = np.reshape(img_scaled,[1,224,224,3])\n",
    "input_pred = model.predict(img_reshaped)\n",
    "input_label = np.argmax(input_pred)\n",
    "print(input_label)\n",
    "\n",
    "if input_label == 0:\n",
    "    print(\"Alluvial Soil\")\n",
    "elif input_label == 1:\n",
    "    print(\"Black Soil\")\n",
    "elif input_label == 2:\n",
    "    print(\"Desert Soil\")\n",
    "elif input_label == 3:\n",
    "    print(\"Red Soil\")"
   ]
  }
 ],
 "metadata": {
  "kernelspec": {
   "display_name": "Python 3",
   "language": "python",
   "name": "python3"
  },
  "language_info": {
   "codemirror_mode": {
    "name": "ipython",
    "version": 3
   },
   "file_extension": ".py",
   "mimetype": "text/x-python",
   "name": "python",
   "nbconvert_exporter": "python",
   "pygments_lexer": "ipython3",
   "version": "3.9.6"
  },
  "orig_nbformat": 4,
  "vscode": {
   "interpreter": {
    "hash": "665058a7671cc3aa174cfcfd446d03c844c63ea6ad59b5df4c0e43e61dad9166"
   }
  }
 },
 "nbformat": 4,
 "nbformat_minor": 2
}
